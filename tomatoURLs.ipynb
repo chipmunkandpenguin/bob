{
 "cells": [
  {
   "cell_type": "code",
   "execution_count": 2,
   "metadata": {},
   "outputs": [],
   "source": [
    "import requests\n",
    "from selenium import webdriver\n",
    "import time\n",
    "from bs4 import BeautifulSoup\n",
    "from selenium.common.exceptions import StaleElementReferenceException"
   ]
  },
  {
   "cell_type": "code",
   "execution_count": 25,
   "metadata": {},
   "outputs": [],
   "source": [
    "def get_links(score_min, score_max, genre):\n",
    "\n",
    "    url = \"https://www.rottentomatoes.com/browse/dvd-streaming-all?\" + \\\n",
    "        \"minTomato=\" + str(score_min) + \"&maxTomato=\" + str(score_max) + \\\n",
    "        \"&services=amazon;hbo_go;itunes;netflix_iw;vudu;amazon_prime;fandango_now&genres=\" + \\\n",
    "        str(genre) + \"&sortBy=release\"\n",
    "\n",
    "    endings = []\n",
    "    \n",
    "    driver = webdriver.Chrome()\n",
    "    driver.get(url)\n",
    "    buttons = driver.find_elements_by_class_name('btn.btn-secondary-rt.mb-load-btn')\n",
    "    \n",
    "    time.sleep(5)\n",
    "    \n",
    "    while(buttons):\n",
    "        try:\n",
    "            buttons[0].click()\n",
    "            buttons = driver.find_elements_by_class_name('btn.btn-secondary-rt.mb-load-btn')\n",
    "            time.sleep(2)\n",
    "        except StaleElementReferenceException:\n",
    "            print(\"Reached bottom of page, scraping links\")\n",
    "            break\n",
    "    \n",
    "    infos = driver.find_elements_by_class_name('movie_info')\n",
    "    for info in infos:\n",
    "        soup = BeautifulSoup(info.get_attribute('innerHTML'), \"html.parser\")\n",
    "        for link in soup.findAll('a'):\n",
    "            endings.append(link.get('href'))\n",
    "            \n",
    "    return endings"
   ]
  },
  {
   "cell_type": "code",
   "execution_count": 27,
   "metadata": {},
   "outputs": [
    {
     "name": "stdout",
     "output_type": "stream",
     "text": [
      "Reached bottom of page, scraping links\n",
      "['/m/mind-game', '/m/speedy', '/m/mad_max_fury_road', '/m/zootopia', '/m/71_2015', '/m/theeb', '/m/black_panther_2018', '/m/kubo_and_the_two_strings_2016', '/m/batman_vs_robin', '/m/april_and_the_extraordinary_world_2016', '/m/kill_zone_2_2016', '/m/coco_2017', '/m/embrace_of_the_serpent', '/m/mission_impossible_fallout', '/m/the_monkey_king_2', '/m/hunt_for_the_wilderpeople', '/m/long_way_north', '/m/orange_sunshine_2016', '/m/snatchers', '/m/the_unseen_2016', '/m/spider_man_into_the_spider_verse', '/m/batman_vs_teenage_mutant_ninja_turtles', '/m/terra_willy', '/m/first_love_2019', '/m/the_gangster_the_cop_the_devil', '/m/promare', '/m/every_time_i_die', '/m/teen_titans_go_vs_teen_titans', '/m/invader_zim_enter_the_florpus', '/m/burning_dog', '/m/justice_league_dark_apokolips_war', '/m/stuntwomen', '/m/run_silent_run_deep', '/m/1009583-hidden_fortress', '/m/sherlock-jr', '/m/safety_last', '/m/northwest_passage', '/m/up', '/m/the_big_parade', '/m/sometimes_a_great_notion', '/m/i-giorni-dellira-blood-and-grit-day-of-anger-gunlaw', '/m/harry_potter_and_the_deathly_hallows_part_2_2011', '/m/midnight-son', '/m/the_hurt_locker', '/m/shifty', '/m/1216924-ink', '/m/racing_dream', '/m/riot_in_cell_block_11', '/m/ip_man_2_legend_of_the_grandmaster', '/m/batman_under_the_red_hood', '/m/man_from_nowhere_2010', '/m/hell_and_back_again', '/m/war_of_the_arrows', '/m/cloudburst_2012', '/m/phineas_and_ferb_the_movie_across_the_2nd_dimension', '/m/resident_evil_damnation', '/m/the_aggression_scale', '/m/the_lego_movie', '/m/batman_the_dark_knight_returns_part_1_2012', '/m/7_boxes', '/m/deddo_sushi', '/m/superman_unbound', '/m/dcu_justice_league_the_flashpoint_paradox', '/m/ninja_shadow_of_a_tear', '/m/major_dundee', '/m/fist_of_legend', '/m/ran', '/m/1011615-king_kong', '/m/1007745-four_feathers', '/m/1003499-captain_blood', '/m/jubal', '/m/mountain_patrol_2006', '/m/supercop', '/m/infra_man', '/m/a-bittersweet-life-dalkomhan-insaeng', '/m/pusher_ii_with_blood_on_my_hands', '/m/election_2', '/m/1009055-gunfighter', '/m/blindsight', '/m/wichita', '/m/captain_horatio_hornblower', '/m/all_through_the_night', '/m/fixed_bayonets', '/m/steel_helmet', '/m/decision_before_dawn', '/m/beau_geste', '/m/thirty_seconds_over_tokyo', '/m/1016756-prisoner_of_zenda', '/m/1021963-treasure_island', '/m/1012772-lost_patrol', '/m/1175374-fail_safe', '/m/flame_and_the_arrow', '/m/throw_of_the_dice', '/m/babylon', '/m/hulk_vs', '/m/beast_stalker', '/m/kikis_delivery_service', '/m/my_darling_clementine', '/m/1065598-babe', '/m/1000355-adventures_of_robin_hood', '/m/little_big_man', '/m/catch_me_if_you_can', '/m/apollo_13', '/m/barbarosa', '/m/1018885-shooting', '/m/1001280-assault_on_precinct_13', '/m/the_african_queen_1951', '/m/1013775-metropolis', '/m/to_have_and_have_not', '/m/treasure_of_the_sierra_madre', '/m/crimson_pirate', '/m/comancheros', '/m/1043378-stalker', '/m/greyfriars_bobby', '/m/white_heat', '/m/a_man_escaped', '/m/luis-bunuels-robinson-crusoe', '/m/touch_of_zen', '/m/1020415-suddenly', '/m/back_to_the_future', '/m/bob_le_flambeur', '/m/angels_with_dirty_faces', '/m/terror_in_a_texas_town', '/m/davy_crockett_king_of_the_wild_frontier', '/m/1054796-robin_hood', '/m/1054794-three_musketeers', '/m/1041082-sea_wolf', '/m/chicken_run', '/m/old_yeller', '/m/seventh_voyage_of_sinbad', '/m/1009437-heidi', '/m/crouching_tiger_hidden_dragon', '/m/lawrence_of_arabia', '/m/1011637-king_solomons_mines', '/m/apocalypse_now', '/m/fistful_of_dollars', '/m/the_taking_of_pelham_one_two_three', '/m/french_connection', '/m/asoka', '/m/the_big_bird_cage', '/m/1022172-twelve_oclock_high', '/m/rio_bravo', '/m/red_river', '/m/fall_of_the_roman_empire', '/m/sons_of_katie_elder', '/m/sands_of_iwo_jima', '/m/sullivans_travels', '/m/khartoum', '/m/fighting_seabees', '/m/1018069-sahara', '/m/1016885-public_enemy', '/m/three_came_home', '/m/steamboat_bill_jr', '/m/1064013-contraband', '/m/iron_mask', '/m/captain_kidd', '/m/lone_wolf_and_cub_baby_cart_at_the_river_styx', '/m/the_tale_of_zatoichi_continues', '/m/the-tale-of-zatoichi', '/m/national_velvet', '/m/1029042-henry_v', '/m/jaws', '/m/escape_from_alcatraz', '/m/badlands', '/m/sanjuro', '/m/ghostbusters', '/m/who_framed_roger_rabbit', '/m/never_cry_wolf', '/m/princess_bride', '/m/1000617-aliens', '/m/hamburger_hill', '/m/seven_samurai_1956', '/m/court_jester', '/m/searchers', '/m/aguirre_the_wrath_of_god', '/m/only_angels_have_wings', '/m/damn_the_defiant', '/m/henry_v_1946', '/m/oliver_twist_1951', '/m/aelita_queen_of_mars', '/m/the_shanghai_gesture', '/m/branded_to_kill', '/m/1031278-gun_crazy', '/m/el_dorado', '/m/stalag_17', '/m/vengeance_valley', '/m/1052608-circus', '/m/1002511-black_pirate', '/m/godzilla_vs_destoroyah_1995', '/m/big_doll_house', '/m/spiders_part_1_the_the_golden_lake', '/m/bullitt', '/m/man_who_would_be_king', '/m/right_stuff', '/m/goldfinger', '/m/1046129-fugitive', '/m/1005973-diva', '/m/in_the_line_of_fire', '/m/terminator', '/m/1019774-stagecoach', '/m/1000121-39_steps', '/m/1043525-lost_world', '/m/1015079-night_to_remember', '/m/bride_with_white_hair', '/m/the_thief_of_bagdad', '/m/westerner', '/m/1044213-siegfried', '/m/murder_at_the_gallop', '/m/1029557-don_juan', '/m/tarzan_and_his_mate', '/m/emil_and_the_detectives', '/m/bhowani_junction']\n"
     ]
    }
   ],
   "source": [
    "print(get_links(96, 100, 1))"
   ]
  },
  {
   "cell_type": "code",
   "execution_count": null,
   "metadata": {},
   "outputs": [],
   "source": []
  }
 ],
 "metadata": {
  "kernelspec": {
   "display_name": "Python 3",
   "language": "python",
   "name": "python3"
  },
  "language_info": {
   "codemirror_mode": {
    "name": "ipython",
    "version": 3
   },
   "file_extension": ".py",
   "mimetype": "text/x-python",
   "name": "python",
   "nbconvert_exporter": "python",
   "pygments_lexer": "ipython3",
   "version": "3.9.1"
  }
 },
 "nbformat": 4,
 "nbformat_minor": 4
}
